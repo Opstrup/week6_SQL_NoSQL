{
 "cells": [
  {
   "cell_type": "markdown",
   "metadata": {},
   "source": [
    "# Tools for big data - week 6 SQL vs NoSQL"
   ]
  },
  {
   "cell_type": "markdown",
   "metadata": {},
   "source": [
    "Setting up sqlite3 db connections."
   ]
  },
  {
   "cell_type": "code",
   "execution_count": 1,
   "metadata": {
    "collapsed": true
   },
   "outputs": [],
   "source": [
    "import sqlite3\n",
    "import pprint\n",
    "from pymongo import MongoClient\n",
    "conn = sqlite3.connect('northwind.db')\n",
    "conn.text_factory = lambda x: x.decode('latin-1')\n",
    "c = conn.cursor()"
   ]
  },
  {
   "cell_type": "code",
   "execution_count": 2,
   "metadata": {},
   "outputs": [
    {
     "data": {
      "text/plain": [
       "('ALFKI',\n",
       " 'Alfreds Futterkiste',\n",
       " 'Maria Anders',\n",
       " 'Sales Representative',\n",
       " 'Obere Str. 57',\n",
       " 'Berlin',\n",
       " None,\n",
       " '12209',\n",
       " 'Germany',\n",
       " '030-0074321',\n",
       " '030-0076545')"
      ]
     },
     "execution_count": 2,
     "metadata": {},
     "output_type": "execute_result"
    }
   ],
   "source": [
    "# Select customer from customer table (test)\n",
    "c.execute(\"SELECT * FROM Customers WHERE CustomerID = 'ALFKI'\")\n",
    "c.fetchone()"
   ]
  },
  {
   "cell_type": "markdown",
   "metadata": {},
   "source": [
    "## SQL exercise 1"
   ]
  },
  {
   "cell_type": "code",
   "execution_count": 21,
   "metadata": {},
   "outputs": [
    {
     "data": {
      "text/plain": [
       "[('Aniseed Syrup',),\n",
       " (\"Grandma's Boysenberry Spread\",),\n",
       " ('Rössle Sauerkraut',),\n",
       " ('Chartreuse verte',),\n",
       " ('Spegesild',),\n",
       " ('Escargots de Bourgogne',),\n",
       " ('Raclette Courdavault',),\n",
       " ('Vegie-spread',),\n",
       " ('Flotemysost',),\n",
       " ('Lakkalikööri',),\n",
       " ('Original Frankfurter grüne Soße',)]"
      ]
     },
     "execution_count": 21,
     "metadata": {},
     "output_type": "execute_result"
    }
   ],
   "source": [
    "c.execute(\"\"\"SELECT ProductName FROM Products WHERE ProductID in \n",
    "(SELECT ProductID FROM [Order Details] WHERE orderID in \n",
    "(SELECT orderID FROM Orders WHERE CustomerID = 'ALFKI'))\"\"\")\n",
    "\n",
    "c.fetchall()"
   ]
  },
  {
   "cell_type": "markdown",
   "metadata": {},
   "source": [
    "## SQL exercise 2"
   ]
  },
  {
   "cell_type": "code",
   "execution_count": 5,
   "metadata": {},
   "outputs": [
    {
     "data": {
      "text/plain": [
       "[(3, 10643, 'ALFKI'),\n",
       " (2, 10702, 'ALFKI'),\n",
       " (2, 10835, 'ALFKI'),\n",
       " (2, 10952, 'ALFKI'),\n",
       " (2, 11011, 'ALFKI')]"
      ]
     },
     "execution_count": 5,
     "metadata": {},
     "output_type": "execute_result"
    }
   ],
   "source": [
    "# Gets all products which the customer have made and the product info\n",
    "c.execute(\"\"\"SELECT COUNT(*), CustomerALFKI.OrderID, CustomerALFKI.CustomerID FROM \n",
    "            ( SELECT * FROM Orders WHERE CustomerID = 'ALFKI' ) CustomerALFKI \n",
    "            INNER JOIN 'Order Details' od\n",
    "            on CustomerALFKI.OrderID = od.OrderID\n",
    "            INNER JOIN 'Products' pd\n",
    "            on od.ProductID = pd.ProductID\n",
    "            GROUP BY od.OrderID\n",
    "            HAVING COUNT(*) > 1\"\"\")\n",
    "c.fetchall()"
   ]
  },
  {
   "cell_type": "markdown",
   "metadata": {},
   "source": [
    "## SQL exercise 3"
   ]
  },
  {
   "cell_type": "code",
   "execution_count": 6,
   "metadata": {},
   "outputs": [
    {
     "name": "stdout",
     "output_type": "stream",
     "text": [
      "4\n",
      "6\n",
      "7\n",
      "10\n",
      "13\n",
      "14\n",
      "19\n",
      "20\n",
      "30\n",
      "31\n",
      "32\n",
      "37\n",
      "40\n",
      "59\n",
      "66\n",
      "69\n",
      "72\n"
     ]
    }
   ],
   "source": [
    "c.execute(\"\"\"SELECT ProductID FROM [Order Details] WHERE Quantity < 2\n",
    "               INTERSECT\n",
    "               SELECT ProductID FROM Products\"\"\")\n",
    "\n",
    "rows = c.fetchall()\n",
    "\n",
    "for row in rows:\n",
    "    print(row[0])"
   ]
  },
  {
   "cell_type": "markdown",
   "metadata": {},
   "source": [
    "Setting up mongodb client and db connections"
   ]
  },
  {
   "cell_type": "code",
   "execution_count": 7,
   "metadata": {
    "collapsed": true
   },
   "outputs": [],
   "source": [
    "# Setting up mongo client\n",
    "client = MongoClient()\n",
    "# Choosing db\n",
    "db = client.Northwind\n",
    "# Getting collections of interest\n",
    "customers_collection = db['customers']\n",
    "orders_collection = db['orders']\n",
    "order_details_collection = db['order-details']\n",
    "products_collection = db['products']\n",
    "employees_collection = db['employees']"
   ]
  },
  {
   "cell_type": "markdown",
   "metadata": {},
   "source": [
    "## Mongodb exercise 1\n",
    "Aggregation for getting orders for customer ALFKI"
   ]
  },
  {
   "cell_type": "code",
   "execution_count": 8,
   "metadata": {
    "collapsed": true
   },
   "outputs": [],
   "source": [
    "orders_products_pipeline_for_customer = [\n",
    "                                            { \"$match\": { \"CustomerID\": \"ALFKI\" } },\n",
    "                                            { \"$lookup\" : \n",
    "                                             {\n",
    "                                                 \"from\" : \"order-details\",\n",
    "                                                 \"localField\" : \"OrderID\",\n",
    "                                                 \"foreignField\" : \"OrderID\",\n",
    "                                                 \"as\" : \"orders_for_customer\"\n",
    "                                             }\n",
    "                                            },\n",
    "                                            { \"$lookup\" : \n",
    "                                             {\n",
    "                                                 \"from\" : \"products\",\n",
    "                                                 \"localField\" : \"orders_for_customer.ProductID\",\n",
    "                                                 \"foreignField\" : \"ProductID\",\n",
    "                                                 \"as\" : \"products_for_order\"\n",
    "                                             }\n",
    "                                            },\n",
    "                                            { \"$project\" : \n",
    "                                             { \n",
    "                                                \"CustomerID\" : \"$CustomerID\", \n",
    "                                                \"OrderID\" : \"$OrderID\",\n",
    "                                                \"ProductsOrdered\" : \"$products_for_order.ProductID\",\n",
    "                                                \"NumberOfOrders\" : {\"$size\" : \"$orders_for_customer\" },\n",
    "                                                \"_id\" : 0\n",
    "                                             }\n",
    "                                            }\n",
    "                                        ]"
   ]
  },
  {
   "cell_type": "code",
   "execution_count": 9,
   "metadata": {},
   "outputs": [
    {
     "name": "stdout",
     "output_type": "stream",
     "text": [
      "[{'CustomerID': 'ALFKI',\n",
      "  'NumberOfOrders': 3,\n",
      "  'OrderID': 10643,\n",
      "  'ProductsOrdered': [28, 39, 46]},\n",
      " {'CustomerID': 'ALFKI',\n",
      "  'NumberOfOrders': 1,\n",
      "  'OrderID': 10692,\n",
      "  'ProductsOrdered': [63]},\n",
      " {'CustomerID': 'ALFKI',\n",
      "  'NumberOfOrders': 2,\n",
      "  'OrderID': 10702,\n",
      "  'ProductsOrdered': [3, 76]},\n",
      " {'CustomerID': 'ALFKI',\n",
      "  'NumberOfOrders': 2,\n",
      "  'OrderID': 10835,\n",
      "  'ProductsOrdered': [59, 77]},\n",
      " {'CustomerID': 'ALFKI',\n",
      "  'NumberOfOrders': 2,\n",
      "  'OrderID': 10952,\n",
      "  'ProductsOrdered': [6, 28]},\n",
      " {'CustomerID': 'ALFKI',\n",
      "  'NumberOfOrders': 2,\n",
      "  'OrderID': 11011,\n",
      "  'ProductsOrdered': [58, 71]}]\n"
     ]
    }
   ],
   "source": [
    "pprint.pprint(list(orders_collection.aggregate(orders_products_pipeline_for_customer)))"
   ]
  },
  {
   "cell_type": "markdown",
   "metadata": {},
   "source": [
    "## Mongodb exercise 2\n",
    "Aggregation for getting orders with minimum two uniq products."
   ]
  },
  {
   "cell_type": "code",
   "execution_count": 10,
   "metadata": {
    "collapsed": true
   },
   "outputs": [],
   "source": [
    "uniq_orders_products_pipeline_for_customer = [\n",
    "                                                    { \"$match\" : { \"CustomerID\": \"ALFKI\" } },\n",
    "                                                    { \"$lookup\" : \n",
    "                                                     {\n",
    "                                                         \"from\" : \"order-details\",\n",
    "                                                         \"localField\" : \"OrderID\",\n",
    "                                                         \"foreignField\" : \"OrderID\",\n",
    "                                                         \"as\" : \"orders_for_customer\"\n",
    "                                                     }\n",
    "                                                    },\n",
    "                                                    { \"$lookup\" : \n",
    "                                                     {\n",
    "                                                         \"from\" : \"products\",\n",
    "                                                         \"localField\" : \"orders_for_customer.ProductID\",\n",
    "                                                         \"foreignField\" : \"ProductID\",\n",
    "                                                         \"as\" : \"products_for_order\"\n",
    "                                                     }\n",
    "                                                    },\n",
    "                                                    { \"$project\" : \n",
    "                                                     { \n",
    "                                                        \"CustomerID\" : \"$CustomerID\", \n",
    "                                                        \"OrderID\" : \"$OrderID\",\n",
    "                                                        \"ProductsOrdered\" : \"$products_for_order.ProductID\",\n",
    "                                                        \"NumberOfOrders\" : {\"$size\" : \"$orders_for_customer\" },\n",
    "                                                        \"_id\" : 0\n",
    "                                                     }\n",
    "                                                    },\n",
    "                                                    { \"$match\" : { \"NumberOfOrders\" : { \"$gte\" : 2 } } }\n",
    "                                                ]"
   ]
  },
  {
   "cell_type": "code",
   "execution_count": 12,
   "metadata": {},
   "outputs": [
    {
     "name": "stdout",
     "output_type": "stream",
     "text": [
      "[{'CustomerID': 'ALFKI',\n",
      "  'NumberOfOrders': 3,\n",
      "  'OrderID': 10643,\n",
      "  'ProductsOrdered': [28, 39, 46]},\n",
      " {'CustomerID': 'ALFKI',\n",
      "  'NumberOfOrders': 2,\n",
      "  'OrderID': 10702,\n",
      "  'ProductsOrdered': [3, 76]},\n",
      " {'CustomerID': 'ALFKI',\n",
      "  'NumberOfOrders': 2,\n",
      "  'OrderID': 10835,\n",
      "  'ProductsOrdered': [59, 77]},\n",
      " {'CustomerID': 'ALFKI',\n",
      "  'NumberOfOrders': 2,\n",
      "  'OrderID': 10952,\n",
      "  'ProductsOrdered': [6, 28]},\n",
      " {'CustomerID': 'ALFKI',\n",
      "  'NumberOfOrders': 2,\n",
      "  'OrderID': 11011,\n",
      "  'ProductsOrdered': [58, 71]}]\n"
     ]
    }
   ],
   "source": [
    "pprint.pprint(list(orders_collection.aggregate(uniq_orders_products_pipeline_for_customer)))"
   ]
  },
  {
   "cell_type": "code",
   "execution_count": 13,
   "metadata": {},
   "outputs": [],
   "source": [
    "# Getting customer ALFKI document\n",
    "#pprint.pprint(customers_collection.find_one({\"CustomerID\": \"ALFKI\"}))"
   ]
  },
  {
   "cell_type": "code",
   "execution_count": 14,
   "metadata": {},
   "outputs": [],
   "source": [
    "#pprint.pprint(list(customers_collection.find()))"
   ]
  },
  {
   "cell_type": "markdown",
   "metadata": {},
   "source": [
    "## Mongodb exercise 3\n",
    "Use of map reduce"
   ]
  },
  {
   "cell_type": "code",
   "execution_count": 15,
   "metadata": {
    "collapsed": true
   },
   "outputs": [],
   "source": [
    "from bson.code import Code"
   ]
  },
  {
   "cell_type": "code",
   "execution_count": 16,
   "metadata": {
    "collapsed": true
   },
   "outputs": [],
   "source": [
    "myMap = Code(\"function () {\"\n",
    "                \"emit(this.Country, 1);\"\n",
    "            \"}\")"
   ]
  },
  {
   "cell_type": "code",
   "execution_count": 17,
   "metadata": {
    "collapsed": true
   },
   "outputs": [],
   "source": [
    "myReduce = Code(\"function (country, count) {\"\n",
    "                   \"return Array.sum(count)\"\n",
    "               \"}\")"
   ]
  },
  {
   "cell_type": "code",
   "execution_count": 18,
   "metadata": {
    "collapsed": true
   },
   "outputs": [],
   "source": [
    "res = customers_collection.map_reduce(myMap, myReduce, \"CountryForCustomer\")"
   ]
  },
  {
   "cell_type": "code",
   "execution_count": 19,
   "metadata": {},
   "outputs": [
    {
     "name": "stdout",
     "output_type": "stream",
     "text": [
      "{'_id': 8022.0, 'value': 1.0}\n",
      "{'_id': 13008.0, 'value': 1.0}\n",
      "{'_id': 28001.0, 'value': 1.0}\n",
      "{'_id': 28023.0, 'value': 1.0}\n",
      "{'_id': 28034.0, 'value': 1.0}\n",
      "{'_id': 41101.0, 'value': 1.0}\n",
      "{'_id': 44000.0, 'value': 2.0}\n",
      "{'_id': 59000.0, 'value': 1.0}\n",
      "{'_id': 67000.0, 'value': 1.0}\n",
      "{'_id': 69004.0, 'value': 1.0}\n",
      "{'_id': 75012.0, 'value': 1.0}\n",
      "{'_id': 75016.0, 'value': 1.0}\n",
      "{'_id': 78000.0, 'value': 1.0}\n",
      "{'_id': '02389-673', 'value': 1.0}\n",
      "{'_id': '02389-890', 'value': 1.0}\n",
      "{'_id': '04876-786', 'value': 1.0}\n",
      "{'_id': '05432-043', 'value': 1.0}\n",
      "{'_id': '05442-030', 'value': 1.0}\n",
      "{'_id': '05454-876', 'value': 1.0}\n",
      "{'_id': '05487-020', 'value': 1.0}\n",
      "{'_id': '05634-030', 'value': 1.0}\n",
      "{'_id': '08737-363', 'value': 1.0}\n",
      "{'_id': 'Argentina', 'value': 3.0}\n",
      "{'_id': 'Austria', 'value': 2.0}\n",
      "{'_id': 'B-6000', 'value': 1.0}\n",
      "{'_id': 'Belgium', 'value': 1.0}\n",
      "{'_id': 'Canada', 'value': 3.0}\n",
      "{'_id': 'Denmark', 'value': 2.0}\n",
      "{'_id': 'Finland', 'value': 2.0}\n",
      "{'_id': 'France', 'value': 2.0}\n",
      "{'_id': 'Germany', 'value': 11.0}\n",
      "{'_id': 'Ireland', 'value': 1.0}\n",
      "{'_id': 'Italy', 'value': 3.0}\n",
      "{'_id': 'Mexico', 'value': 5.0}\n",
      "{'_id': 'Norway', 'value': 1.0}\n",
      "{'_id': 'Poland', 'value': 1.0}\n",
      "{'_id': 'Portugal', 'value': 2.0}\n",
      "{'_id': 'Sweden', 'value': 2.0}\n",
      "{'_id': 'Switzerland', 'value': 2.0}\n",
      "{'_id': 'UK', 'value': 7.0}\n",
      "{'_id': 'USA', 'value': 13.0}\n",
      "{'_id': 'Venezuela', 'value': 4.0}\n"
     ]
    }
   ],
   "source": [
    "for od in res.find():\n",
    "    print(od)"
   ]
  },
  {
   "cell_type": "code",
   "execution_count": null,
   "metadata": {
    "collapsed": true
   },
   "outputs": [],
   "source": []
  }
 ],
 "metadata": {
  "kernelspec": {
   "display_name": "Python 3",
   "language": "python",
   "name": "python3"
  },
  "language_info": {
   "codemirror_mode": {
    "name": "ipython",
    "version": 3
   },
   "file_extension": ".py",
   "mimetype": "text/x-python",
   "name": "python",
   "nbconvert_exporter": "python",
   "pygments_lexer": "ipython3",
   "version": "3.6.2"
  }
 },
 "nbformat": 4,
 "nbformat_minor": 2
}
